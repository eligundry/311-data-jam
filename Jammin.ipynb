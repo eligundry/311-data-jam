{
 "cells": [
  {
   "cell_type": "markdown",
   "metadata": {},
   "source": [
    "# Jammin\n",
    "\n",
    "1. Service request duration is important\n",
    "  * Update db to show the resolution date?\n",
    "2. Volume?\n",
    "3. Are people not calling about petty shit during a hurricane?\n",
    "\n",
    "## Broad Discussion\n",
    "\n",
    "* Geographic information could be helpful\n",
    " * I gotchu\n",
    "* Power outages?\n",
    "* What complaint types should we focus on?\n",
    "\n",
    "## Questions\n",
    "\n",
    "* Does the time to 311 resolution increase/decrease in relation to an event?\n",
    "* Does the volume to 311 resolution increase/decrease in relationshipt to an event?\n",
    " * What type of requests vs what types of event?\n",
    "* Is the volume of requests in relationship to population?\n",
    " * Another group is doing this tho.\n",
    "* "
   ]
  },
  {
   "cell_type": "code",
   "execution_count": null,
   "metadata": {
    "collapsed": true
   },
   "outputs": [],
   "source": []
  }
 ],
 "metadata": {
  "kernelspec": {
   "display_name": "Python 3",
   "language": "python",
   "name": "python3"
  },
  "language_info": {
   "codemirror_mode": {
    "name": "ipython",
    "version": 3
   },
   "file_extension": ".py",
   "mimetype": "text/x-python",
   "name": "python",
   "nbconvert_exporter": "python",
   "pygments_lexer": "ipython3",
   "version": "3.6.2"
  }
 },
 "nbformat": 4,
 "nbformat_minor": 2
}
